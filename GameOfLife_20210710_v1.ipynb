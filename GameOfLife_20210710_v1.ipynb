{
  "nbformat": 4,
  "nbformat_minor": 0,
  "metadata": {
    "colab": {
      "name": "GameOfLife_20210710_v1.ipynb",
      "provenance": [],
      "authorship_tag": "ABX9TyOE7qhjlzoT7uZjen3Iss5e",
      "include_colab_link": true
    },
    "kernelspec": {
      "name": "python3",
      "display_name": "Python 3"
    },
    "language_info": {
      "name": "python"
    }
  },
  "cells": [
    {
      "cell_type": "markdown",
      "metadata": {
        "id": "view-in-github",
        "colab_type": "text"
      },
      "source": [
        "<a href=\"https://colab.research.google.com/github/HACP/GameOfLife/blob/main/GameOfLife_20210710_v1.ipynb\" target=\"_parent\"><img src=\"https://colab.research.google.com/assets/colab-badge.svg\" alt=\"Open In Colab\"/></a>"
      ]
    },
    {
      "cell_type": "code",
      "metadata": {
        "id": "d6vovnsgwqz6"
      },
      "source": [
        "%matplotlib inline\n",
        "\n",
        "import numpy as np\n",
        "import pylab as plt\n",
        "from IPython import display\n",
        "import time"
      ],
      "execution_count": 1,
      "outputs": []
    },
    {
      "cell_type": "code",
      "metadata": {
        "id": "tOzfLVvcw0c-"
      },
      "source": [
        "N = 10"
      ],
      "execution_count": 2,
      "outputs": []
    },
    {
      "cell_type": "code",
      "metadata": {
        "id": "TC7_gvoNyc7W"
      },
      "source": [
        "#m = np.zeros((N,N))\n",
        "m = np.random.choice([0,1],size = (N,N))"
      ],
      "execution_count": 3,
      "outputs": []
    },
    {
      "cell_type": "code",
      "metadata": {
        "id": "k8o_pAox1f4y"
      },
      "source": [
        "height, width = m.shape"
      ],
      "execution_count": 4,
      "outputs": []
    },
    {
      "cell_type": "code",
      "metadata": {
        "colab": {
          "base_uri": "https://localhost:8080/",
          "height": 248
        },
        "id": "yah6qzRUyf03",
        "outputId": "3aac269b-d2cd-4115-c9a4-b337fd556638"
      },
      "source": [
        "plt.imshow(m)\n",
        "plt.axis('off')\n",
        "plt.show()"
      ],
      "execution_count": 5,
      "outputs": [
        {
          "output_type": "display_data",
          "data": {
            "image/png": "[encoded data removed]",
            "text/plain": [
              "<Figure size 432x288 with 1 Axes>"
            ]
          },
          "metadata": {
            "tags": [],
            "needs_background": "light"
          }
        }
      ]
    },
    {
      "cell_type": "code",
      "metadata": {
        "id": "8gab5tatygVx"
      },
      "source": [
        "def get_score_neighbors(conf, i, j):\n",
        "    return int((conf[(i+0)%N][(j-1)%N] +0*conf[(i+0)%N][(j+0)%N] + conf[(i+0)%N][(j+1)%N] + \n",
        "                conf[(i+1)%N][(j-1)%N] +  conf[(i+1)%N][(j+0)%N] + conf[(i+1)%N][(j+1)%N] + \n",
        "                conf[(i-1)%N][(j-1)%N] +  conf[(i-1)%N][(j+0)%N] + conf[(i-1)%N][(j+1)%N] ))"
      ],
      "execution_count": 6,
      "outputs": []
    },
    {
      "cell_type": "code",
      "metadata": {
        "colab": {
          "base_uri": "https://localhost:8080/"
        },
        "id": "wr5M3ysu0NsR",
        "outputId": "60a2eb6c-b146-4b3f-ecf8-83c4870b9f86"
      },
      "source": [
        "get_score_neighbors(m,0,0)"
      ],
      "execution_count": 7,
      "outputs": [
        {
          "output_type": "execute_result",
          "data": {
            "text/plain": [
              "4"
            ]
          },
          "metadata": {
            "tags": []
          },
          "execution_count": 7
        }
      ]
    },
    {
      "cell_type": "code",
      "metadata": {
        "id": "Vdli_J6-0x1g"
      },
      "source": [
        "def update_conf(conf):\n",
        "    conf_next = conf.copy()\n",
        "    for jj in range(width):\n",
        "        for ii in range(height):\n",
        "            score = get_score_neighbors(conf, ii,jj)\n",
        "            \n",
        "            if conf[ii][jj] == 1.:\n",
        "                if (score < 2) or (score > 3):\n",
        "                    conf_next[ii][jj] = 0.\n",
        "            else:\n",
        "                if score == 3.:\n",
        "                    conf_next[ii][jj] = 1.\n",
        "            \n",
        "    return(conf_next,sum(sum(abs(conf_next - conf))))"
      ],
      "execution_count": 8,
      "outputs": []
    },
    {
      "cell_type": "code",
      "metadata": {
        "id": "7kd5FDjQ1cfN"
      },
      "source": [
        "m_next, delta = update_conf(m)"
      ],
      "execution_count": 9,
      "outputs": []
    },
    {
      "cell_type": "code",
      "metadata": {
        "colab": {
          "base_uri": "https://localhost:8080/"
        },
        "id": "2VQg2sJ_9s2p",
        "outputId": "293f40b2-b297-4a48-930b-5a130b955794"
      },
      "source": [
        "delta"
      ],
      "execution_count": 10,
      "outputs": [
        {
          "output_type": "execute_result",
          "data": {
            "text/plain": [
              "56"
            ]
          },
          "metadata": {
            "tags": []
          },
          "execution_count": 10
        }
      ]
    },
    {
      "cell_type": "code",
      "metadata": {
        "colab": {
          "base_uri": "https://localhost:8080/",
          "height": 248
        },
        "id": "8-7T6PE21mXw",
        "outputId": "a609dc61-657d-468e-985e-439ad93769f6"
      },
      "source": [
        "plt.imshow(m_next)\n",
        "plt.axis('off')\n",
        "plt.show()"
      ],
      "execution_count": 11,
      "outputs": [
        {
          "output_type": "display_data",
          "data": {
            "image/png": "[encoded data removed]",
            "text/plain": [
              "<Figure size 432x288 with 1 Axes>"
            ]
          },
          "metadata": {
            "tags": [],
            "needs_background": "light"
          }
        }
      ]
    },
    {
      "cell_type": "code",
      "metadata": {
        "colab": {
          "base_uri": "https://localhost:8080/",
          "height": 1000
        },
        "id": "o-3M7ypL18fA",
        "outputId": "f88ade66-6bbf-4f7d-b66c-2d34c280c1e6"
      },
      "source": [
        "m_next = m.copy()\n",
        "for _ in range(10):\n",
        "  m_next, delta = update_conf(m_next)\n",
        "  plt.close()\n",
        "  plt.figure()\n",
        "  plt.imshow(m_next)\n",
        "  plt.axis('off')\n",
        "  plt.show()"
      ],
      "execution_count": 12,
      "outputs": [
        {
          "output_type": "display_data",
          "data": {
            "image/png": "[encoded data removed]",
            "text/plain": [
              "<Figure size 432x288 with 1 Axes>"
            ]
          },
          "metadata": {
            "tags": [],
            "needs_background": "light"
          }
        },
        {
          "output_type": "display_data",
          "data": {
            "image/png": "[encoded data removed]",
            "text/plain": [
              "<Figure size 432x288 with 1 Axes>"
            ]
          },
          "metadata": {
            "tags": [],
            "needs_background": "light"
          }
        },
        {
          "output_type": "display_data",
          "data": {
            "image/png": "[encoded data removed]",
            "text/plain": [
              "<Figure size 432x288 with 1 Axes>"
            ]
          },
          "metadata": {
            "tags": [],
            "needs_background": "light"
          }
        },
        {
          "output_type": "display_data",
          "data": {
            "image/png": "[encoded data removed]",
            "text/plain": [
              "<Figure size 432x288 with 1 Axes>"
            ]
          },
          "metadata": {
            "tags": [],
            "needs_background": "light"
          }
        },
        {
          "output_type": "display_data",
          "data": {
            "image/png": "[encoded data removed]",
            "text/plain": [
              "<Figure size 432x288 with 1 Axes>"
            ]
          },
          "metadata": {
            "tags": [],
            "needs_background": "light"
          }
        },
        {
          "output_type": "display_data",
          "data": {
            "image/png": "[encoded data removed]",
            "text/plain": [
              "<Figure size 432x288 with 1 Axes>"
            ]
          },
          "metadata": {
            "tags": [],
            "needs_background": "light"
          }
        },
        {
          "output_type": "display_data",
          "data": {
            "image/png": "[encoded data removed]",
            "text/plain": [
              "<Figure size 432x288 with 1 Axes>"
            ]
          },
          "metadata": {
            "tags": [],
            "needs_background": "light"
          }
        },
        {
          "output_type": "display_data",
          "data": {
            "image/png": "[encoded data removed]",
            "text/plain": [
              "<Figure size 432x288 with 1 Axes>"
            ]
          },
          "metadata": {
            "tags": [],
            "needs_background": "light"
          }
        },
        {
          "output_type": "display_data",
          "data": {
            "image/png": "[encoded data removed]",
            "text/plain": [
              "<Figure size 432x288 with 1 Axes>"
            ]
          },
          "metadata": {
            "tags": [],
            "needs_background": "light"
          }
        },
        {
          "output_type": "display_data",
          "data": {
            "image/png": "[encoded data removed]",
            "text/plain": [
              "<Figure size 432x288 with 1 Axes>"
            ]
          },
          "metadata": {
            "tags": [],
            "needs_background": "light"
          }
        }
      ]
    },
    {
      "cell_type": "code",
      "metadata": {
        "colab": {
          "base_uri": "https://localhost:8080/",
          "height": 575
        },
        "id": "i1fm_o3f5fma",
        "outputId": "96d574f2-dd2a-4ec9-cdc4-b88c4b23cb09"
      },
      "source": [
        "m_next = m.copy()\n",
        "delta = 1\n",
        "fig = plt.figure(figsize=(10,10))\n",
        "for i in range(100):\n",
        "    while sum(sum(m_next))>0 and delta > 0:\n",
        "      plt.imshow(m_next)\n",
        "      plt.axis('off')\n",
        "      m_next, delta = update_conf(m_next)\n",
        "      display.clear_output(wait=True)\n",
        "      display.display(plt.gcf())\n",
        "      time.sleep(0.1)\n",
        "\n",
        "display.clear_output(wait=True)\n",
        "plt.imshow(m_next)\n",
        "plt.axis('off')\n",
        "plt.show()"
      ],
      "execution_count": 13,
      "outputs": [
        {
          "output_type": "display_data",
          "data": {
            "image/png": "[encoded data removed]",
            "text/plain": [
              "<Figure size 720x720 with 1 Axes>"
            ]
          },
          "metadata": {
            "tags": [],
            "needs_background": "light"
          }
        }
      ]
    }
  ]
}