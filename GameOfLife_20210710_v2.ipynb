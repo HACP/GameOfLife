{
  "nbformat": 4,
  "nbformat_minor": 0,
  "metadata": {
    "colab": {
      "name": "GameOfLife_20210710_v2.ipynb",
      "provenance": [],
      "authorship_tag": "ABX9TyPAE/E0Gnqs5XXyf8k3SuSg",
      "include_colab_link": true
    },
    "kernelspec": {
      "name": "python3",
      "display_name": "Python 3"
    },
    "language_info": {
      "name": "python"
    }
  },
  "cells": [
    {
      "cell_type": "markdown",
      "metadata": {
        "id": "view-in-github",
        "colab_type": "text"
      },
      "source": [
        "<a href=\"https://colab.research.google.com/github/HACP/GameOfLife/blob/main/GameOfLife_20210710_v2.ipynb\" target=\"_parent\"><img src=\"https://colab.research.google.com/assets/colab-badge.svg\" alt=\"Open In Colab\"/></a>"
      ]
    },
    {
      "cell_type": "code",
      "metadata": {
        "id": "d6vovnsgwqz6",
        "cellView": "form"
      },
      "source": [
        "#@title\n",
        "%matplotlib inline\n",
        "\n",
        "import numpy as np\n",
        "import pylab as plt\n",
        "from IPython import display\n",
        "import time"
      ],
      "execution_count": 1,
      "outputs": []
    },
    {
      "cell_type": "markdown",
      "metadata": {
        "id": "jtKOEXYCLPIF"
      },
      "source": [
        "# Game Of Life Implementation"
      ]
    },
    {
      "cell_type": "code",
      "metadata": {
        "cellView": "form",
        "id": "fOprIBrUE62q"
      },
      "source": [
        "#@title Board Size (Select Game Parameters)\n",
        "board_size = 20 #@param {type:\"integer\"}\n",
        "number_of_gliders = 2 #@param {type:\"integer\"}\n",
        "number_of_unbounded = 1 #@param {type:\"integer\"}"
      ],
      "execution_count": 2,
      "outputs": []
    },
    {
      "cell_type": "code",
      "metadata": {
        "cellView": "form",
        "id": "cH5TvjeuG0LB"
      },
      "source": [
        "#@title\n",
        "# Configurations\n",
        "glider = [[1, 0, 0],\n",
        "          [0, 1, 1],\n",
        "          [1, 1, 0]]\n",
        "\n",
        "unbounded = [[1, 1, 1, 0, 1],\n",
        "             [1, 0, 0, 0, 0],\n",
        "             [0, 0, 0, 1, 1],\n",
        "             [0, 1, 1, 0, 1],\n",
        "             [1, 0, 1, 0, 1]]"
      ],
      "execution_count": 3,
      "outputs": []
    },
    {
      "cell_type": "code",
      "metadata": {
        "id": "TC7_gvoNyc7W",
        "cellView": "form"
      },
      "source": [
        "#@title\n",
        "m = np.zeros((board_size,board_size))\n",
        "#m = np.random.choice([0,1],size = (board_size,board_size))\n",
        "for _ in range(number_of_gliders):\n",
        "  (x,y) = np.random.randint(0,board_size,size=2)\n",
        "  for ii in range(np.array(glider).shape[0]):\n",
        "    for jj in range(np.array(glider).shape[1]):\n",
        "      m[(x+ii)%board_size][(y+jj)%board_size] = glider[ii][jj]\n",
        "\n",
        "for _ in range(number_of_unbounded):\n",
        "  (x,y) = np.random.randint(0,board_size,size=2)\n",
        "  for ii in range(np.array(unbounded).shape[0]):\n",
        "    for jj in range(np.array(unbounded).shape[1]):\n",
        "      m[(x+ii)%board_size][(y+jj)%board_size] = unbounded[ii][jj]\n",
        "\n",
        "height, width = m.shape"
      ],
      "execution_count": 4,
      "outputs": []
    },
    {
      "cell_type": "code",
      "metadata": {
        "id": "8gab5tatygVx"
      },
      "source": [
        "#@title\n",
        "def get_score_neighbors(conf,i, j):\n",
        "    N = conf.shape[0]\n",
        "    return int((conf[(i+0)%N][(j-1)%N] +0*conf[(i+0)%N][(j+0)%N] + conf[(i+0)%N][(j+1)%N] + \n",
        "                conf[(i+1)%N][(j-1)%N] +  conf[(i+1)%N][(j+0)%N] + conf[(i+1)%N][(j+1)%N] + \n",
        "                conf[(i-1)%N][(j-1)%N] +  conf[(i-1)%N][(j+0)%N] + conf[(i-1)%N][(j+1)%N] ))\n",
        "    \n",
        "def update_conf(conf):\n",
        "    conf_next = conf.copy()\n",
        "    for jj in range(width):\n",
        "        for ii in range(height):\n",
        "            score = get_score_neighbors(conf, ii,jj)\n",
        "            \n",
        "            if conf[ii][jj] == 1.:\n",
        "                if (score < 2) or (score > 3):\n",
        "                    conf_next[ii][jj] = 0.\n",
        "            else:\n",
        "                if score == 3.:\n",
        "                    conf_next[ii][jj] = 1.\n",
        "            \n",
        "    return(conf_next,sum(sum(abs(conf_next - conf))))\n",
        "\n",
        "def run_iteration():\n",
        "  m_next = m.copy()\n",
        "  delta = 1\n",
        "  fig = plt.figure(figsize=(8,8))\n",
        "  for count in range(100):\n",
        "    print(count)\n",
        "    if sum(sum(m_next))>0 and delta > 0:\n",
        "      plt.imshow(m_next)\n",
        "      #plt.title(str(count))\n",
        "      plt.axis('off')\n",
        "      m_next, delta = update_conf(m_next)\n",
        "      display.clear_output(wait=True)\n",
        "      display.display(plt.gcf())\n",
        "      time.sleep(0.1)\n",
        "\n",
        "  display.clear_output(wait=True)\n",
        "  plt.imshow(m_next)\n",
        "  plt.axis('off')\n",
        "  plt.show()\n"
      ],
      "execution_count": 5,
      "outputs": []
    },
    {
      "cell_type": "code",
      "metadata": {
        "colab": {
          "base_uri": "https://localhost:8080/",
          "height": 466
        },
        "id": "A40lyL4rGWqQ",
        "outputId": "0e25ad37-8acf-4c64-9a10-acb28a4f6bdd"
      },
      "source": [
        "run_iteration()"
      ],
      "execution_count": 6,
      "outputs": [
        {
          "output_type": "display_data",
          "data": {
            "image/png": "[encoded data removed]",
            "text/plain": [
              "<Figure size 576x576 with 1 Axes>"
            ]
          },
          "metadata": {
            "tags": [],
            "needs_background": "light"
          }
        }
      ]
    },
    {
      "cell_type": "code",
      "metadata": {
        "id": "X8RCgMF5MCkt"
      },
      "source": [
        ""
      ],
      "execution_count": 6,
      "outputs": []
    }
  ]
}